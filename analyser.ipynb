{
  "cells": [
    {
      "cell_type": "code",
      "execution_count": 1,
      "metadata": {
        "colab": {
          "base_uri": "https://localhost:8080/"
        },
        "id": "DitPemtuYyVK",
        "outputId": "096360a8-5c72-4fd5-92fa-7c0845bbddc6"
      },
      "outputs": [
        {
          "name": "stdout",
          "output_type": "stream",
          "text": [
            "Collecting newsapi-python\n",
            "  Obtaining dependency information for newsapi-python from https://files.pythonhosted.org/packages/74/47/e3b099102f0c826d37841d2266e19f1568dcf58ba86e4c6948e2a124f91d/newsapi_python-0.2.7-py2.py3-none-any.whl.metadata\n",
            "  Downloading newsapi_python-0.2.7-py2.py3-none-any.whl.metadata (1.2 kB)\n",
            "Requirement already satisfied: requests<3.0.0 in c:\\users\\hp\\anaconda3\\lib\\site-packages (from newsapi-python) (2.31.0)\n",
            "Requirement already satisfied: charset-normalizer<4,>=2 in c:\\users\\hp\\anaconda3\\lib\\site-packages (from requests<3.0.0->newsapi-python) (2.0.4)\n",
            "Requirement already satisfied: idna<4,>=2.5 in c:\\users\\hp\\anaconda3\\lib\\site-packages (from requests<3.0.0->newsapi-python) (3.4)\n",
            "Requirement already satisfied: urllib3<3,>=1.21.1 in c:\\users\\hp\\anaconda3\\lib\\site-packages (from requests<3.0.0->newsapi-python) (1.26.16)\n",
            "Requirement already satisfied: certifi>=2017.4.17 in c:\\users\\hp\\anaconda3\\lib\\site-packages (from requests<3.0.0->newsapi-python) (2023.11.17)\n",
            "Downloading newsapi_python-0.2.7-py2.py3-none-any.whl (7.9 kB)\n",
            "Installing collected packages: newsapi-python\n",
            "Successfully installed newsapi-python-0.2.7\n"
          ]
        }
      ],
      "source": [
        "%pip install newsapi-python"
      ]
    },
    {
      "cell_type": "code",
      "execution_count": 2,
      "metadata": {
        "colab": {
          "base_uri": "https://localhost:8080/"
        },
        "id": "ffuq4hscc0KB",
        "outputId": "df5626b2-64ae-4b6e-fc71-1b4f798c57fb"
      },
      "outputs": [
        {
          "name": "stdout",
          "output_type": "stream",
          "text": [
            "Collecting yfinance\n",
            "  Obtaining dependency information for yfinance from https://files.pythonhosted.org/packages/7d/76/31fb9c58398f4cbdde4a0831d0407a1ca987fe828c7da9ce80969014a5a1/yfinance-0.2.40-py2.py3-none-any.whl.metadata\n",
            "  Downloading yfinance-0.2.40-py2.py3-none-any.whl.metadata (11 kB)\n",
            "Requirement already satisfied: pandas>=1.3.0 in c:\\users\\hp\\anaconda3\\lib\\site-packages (from yfinance) (2.0.3)\n",
            "Requirement already satisfied: numpy>=1.16.5 in c:\\users\\hp\\anaconda3\\lib\\site-packages (from yfinance) (1.24.3)\n",
            "Requirement already satisfied: requests>=2.31 in c:\\users\\hp\\anaconda3\\lib\\site-packages (from yfinance) (2.31.0)\n",
            "Collecting multitasking>=0.0.7 (from yfinance)\n",
            "  Obtaining dependency information for multitasking>=0.0.7 from https://files.pythonhosted.org/packages/3e/8a/bb3160e76e844db9e69a413f055818969c8acade64e1a9ac5ce9dfdcf6c1/multitasking-0.0.11-py3-none-any.whl.metadata\n",
            "  Downloading multitasking-0.0.11-py3-none-any.whl.metadata (5.5 kB)\n",
            "Requirement already satisfied: lxml>=4.9.1 in c:\\users\\hp\\anaconda3\\lib\\site-packages (from yfinance) (4.9.3)\n",
            "Requirement already satisfied: platformdirs>=2.0.0 in c:\\users\\hp\\anaconda3\\lib\\site-packages (from yfinance) (3.10.0)\n",
            "Requirement already satisfied: pytz>=2022.5 in c:\\users\\hp\\anaconda3\\lib\\site-packages (from yfinance) (2023.3.post1)\n",
            "Collecting frozendict>=2.3.4 (from yfinance)\n",
            "  Obtaining dependency information for frozendict>=2.3.4 from https://files.pythonhosted.org/packages/6a/71/3656c00606e75e81f11721e6a1c973c3e03da8c7d8b665d20f78245384c6/frozendict-2.4.4-py311-none-any.whl.metadata\n",
            "  Downloading frozendict-2.4.4-py311-none-any.whl.metadata (23 kB)\n",
            "Collecting peewee>=3.16.2 (from yfinance)\n",
            "  Downloading peewee-3.17.5.tar.gz (3.0 MB)\n",
            "     ---------------------------------------- 0.0/3.0 MB ? eta -:--:--\n",
            "     -------- ------------------------------- 0.6/3.0 MB 13.5 MB/s eta 0:00:01\n",
            "     ---------------------- ----------------- 1.6/3.0 MB 21.0 MB/s eta 0:00:01\n",
            "     ---------------------- ----------------- 1.6/3.0 MB 21.0 MB/s eta 0:00:01\n",
            "     ---------------------- ----------------- 1.6/3.0 MB 21.0 MB/s eta 0:00:01\n",
            "     ---------------------- ----------------- 1.6/3.0 MB 21.0 MB/s eta 0:00:01\n",
            "     ---------------------- ----------------- 1.6/3.0 MB 21.0 MB/s eta 0:00:01\n",
            "     ---------------------- ----------------- 1.6/3.0 MB 21.0 MB/s eta 0:00:01\n",
            "     ----------------------- ---------------- 1.8/3.0 MB 4.8 MB/s eta 0:00:01\n",
            "     ------------------------------------ --- 2.7/3.0 MB 6.4 MB/s eta 0:00:01\n",
            "     ---------------------------------------- 3.0/3.0 MB 6.5 MB/s eta 0:00:00\n",
            "  Installing build dependencies: started\n",
            "  Installing build dependencies: finished with status 'done'\n",
            "  Getting requirements to build wheel: started\n",
            "  Getting requirements to build wheel: finished with status 'done'\n",
            "  Preparing metadata (pyproject.toml): started\n",
            "  Preparing metadata (pyproject.toml): finished with status 'done'\n",
            "Requirement already satisfied: beautifulsoup4>=4.11.1 in c:\\users\\hp\\anaconda3\\lib\\site-packages (from yfinance) (4.12.2)\n",
            "Collecting html5lib>=1.1 (from yfinance)\n",
            "  Obtaining dependency information for html5lib>=1.1 from https://files.pythonhosted.org/packages/6c/dd/a834df6482147d48e225a49515aabc28974ad5a4ca3215c18a882565b028/html5lib-1.1-py2.py3-none-any.whl.metadata\n",
            "  Downloading html5lib-1.1-py2.py3-none-any.whl.metadata (16 kB)\n",
            "Requirement already satisfied: soupsieve>1.2 in c:\\users\\hp\\anaconda3\\lib\\site-packages (from beautifulsoup4>=4.11.1->yfinance) (2.4)\n",
            "Requirement already satisfied: six>=1.9 in c:\\users\\hp\\anaconda3\\lib\\site-packages (from html5lib>=1.1->yfinance) (1.16.0)\n",
            "Requirement already satisfied: webencodings in c:\\users\\hp\\anaconda3\\lib\\site-packages (from html5lib>=1.1->yfinance) (0.5.1)\n",
            "Requirement already satisfied: python-dateutil>=2.8.2 in c:\\users\\hp\\anaconda3\\lib\\site-packages (from pandas>=1.3.0->yfinance) (2.8.2)\n",
            "Requirement already satisfied: tzdata>=2022.1 in c:\\users\\hp\\anaconda3\\lib\\site-packages (from pandas>=1.3.0->yfinance) (2023.3)\n",
            "Requirement already satisfied: charset-normalizer<4,>=2 in c:\\users\\hp\\anaconda3\\lib\\site-packages (from requests>=2.31->yfinance) (2.0.4)\n",
            "Requirement already satisfied: idna<4,>=2.5 in c:\\users\\hp\\anaconda3\\lib\\site-packages (from requests>=2.31->yfinance) (3.4)\n",
            "Requirement already satisfied: urllib3<3,>=1.21.1 in c:\\users\\hp\\anaconda3\\lib\\site-packages (from requests>=2.31->yfinance) (1.26.16)\n",
            "Requirement already satisfied: certifi>=2017.4.17 in c:\\users\\hp\\anaconda3\\lib\\site-packages (from requests>=2.31->yfinance) (2023.11.17)\n",
            "Downloading yfinance-0.2.40-py2.py3-none-any.whl (73 kB)\n",
            "   ---------------------------------------- 0.0/73.5 kB ? eta -:--:--\n",
            "   ---------------------------------------- 73.5/73.5 kB 4.0 MB/s eta 0:00:00\n",
            "Downloading frozendict-2.4.4-py311-none-any.whl (16 kB)\n",
            "Downloading html5lib-1.1-py2.py3-none-any.whl (112 kB)\n",
            "   ---------------------------------------- 0.0/112.2 kB ? eta -:--:--\n",
            "   ---------------------------------------- 112.2/112.2 kB ? eta 0:00:00\n",
            "Downloading multitasking-0.0.11-py3-none-any.whl (8.5 kB)\n",
            "Building wheels for collected packages: peewee\n",
            "  Building wheel for peewee (pyproject.toml): started\n",
            "  Building wheel for peewee (pyproject.toml): finished with status 'done'\n",
            "  Created wheel for peewee: filename=peewee-3.17.5-py3-none-any.whl size=138681 sha256=7697948e1e862b6c3b28f0bbf163e61ce54c1486d3e94b8f9e9a57b261185661\n",
            "  Stored in directory: c:\\users\\hp\\appdata\\local\\pip\\cache\\wheels\\d2\\cb\\9c\\c300d7bf782e07f1658c306743d5e30af7e4834001e4064a96\n",
            "Successfully built peewee\n",
            "Installing collected packages: peewee, multitasking, html5lib, frozendict, yfinance\n",
            "Successfully installed frozendict-2.4.4 html5lib-1.1 multitasking-0.0.11 peewee-3.17.5 yfinance-0.2.40\n"
          ]
        }
      ],
      "source": [
        "!pip install yfinance"
      ]
    },
    {
      "cell_type": "code",
      "execution_count": 15,
      "metadata": {
        "colab": {
          "base_uri": "https://localhost:8080/"
        },
        "id": "NIKI-3FYcbJH",
        "outputId": "1dcf2874-72e1-49f5-d6c8-5f02831bdae5"
      },
      "outputs": [
        {
          "name": "stderr",
          "output_type": "stream",
          "text": [
            "[nltk_data] Downloading package vader_lexicon to\n",
            "[nltk_data]     C:\\Users\\HP\\AppData\\Roaming\\nltk_data...\n",
            "[nltk_data]   Package vader_lexicon is already up-to-date!\n"
          ]
        }
      ],
      "source": [
        "import nltk\n",
        "### Uncomment it when the script runs for the first time \n",
        "nltk.download('vader_lexicon')\n",
        "\n",
        "import matplotlib.pyplot as plt \n",
        "import numpy as np\n",
        "import pandas as pd"
      ]
    },
    {
      "cell_type": "code",
      "execution_count": 16,
      "metadata": {
        "id": "t0RJeUMxc8Tc"
      },
      "outputs": [],
      "source": [
        "from newsapi import NewsApiClient\n",
        "#from newsapi.newsapi_client import NewsApiClient\n",
        "from datetime import date, timedelta, datetime\n",
        "\n",
        "from nltk.sentiment.vader import SentimentIntensityAnalyzer\n",
        "sia = SentimentIntensityAnalyzer()"
      ]
    },
    {
      "cell_type": "code",
      "execution_count": 17,
      "metadata": {
        "id": "9afMeZdGdAH0"
      },
      "outputs": [],
      "source": [
        "pd.set_option('display.max_colwidth',1000)"
      ]
    },
    {
      "cell_type": "code",
      "execution_count": 18,
      "metadata": {
        "id": "0e8xcf6NzVMm"
      },
      "outputs": [],
      "source": [
        "# Init news api from newsapi.org\n",
        "NEWS_API_KEY = '1c254fb31ef44218a94b4449782f62d7'\n"
      ]
    },
    {
      "cell_type": "code",
      "execution_count": 19,
      "metadata": {
        "id": "DJdlvP8d1Usp"
      },
      "outputs": [],
      "source": [
        "newsapi = NewsApiClient(api_key= NEWS_API_KEY)\n",
        "keywrd = 'Tata'\n",
        "my_date = date.today() - timedelta(days=1) \n",
        "# datetime.strptime('10-Apr-2021','%d-%b-%Y')\n",
        "\n",
        "articles = newsapi.get_everything(q = keywrd,\n",
        "                                      from_param = my_date.isoformat(), \n",
        "                                      to = (my_date + timedelta(days = 1)).isoformat(),\n",
        "                                      language=\"en\",\n",
        "                                      #sources = \",\".join(sources_list),\n",
        "                                      sort_by=\"relevancy\",\n",
        "                                      page_size = 100)"
      ]
    },
    {
      "cell_type": "code",
      "execution_count": 20,
      "metadata": {
        "colab": {
          "base_uri": "https://localhost:8080/"
        },
        "id": "gKFats2E15QG",
        "outputId": "9246c366-6226-4e30-ee86-152fff685d43"
      },
      "outputs": [
        {
          "data": {
            "text/plain": [
              "{'status': 'ok',\n",
              " 'totalResults': 5,\n",
              " 'articles': [{'source': {'id': 'the-times-of-india',\n",
              "    'name': 'The Times of India'},\n",
              "   'author': 'ET Bureau',\n",
              "   'title': 'With DRHP, Hyundai steers towards $3 billion public listing',\n",
              "   'description': \"India's largest public issue will be an offer-for-sale (OFS) of up to 142.2 million shares, or a 17.5% stake, by South Korean parent Hyundai Motor Co.\",\n",
              "   'url': 'https://economictimes.indiatimes.com/markets/ipos/fpos/with-drhp-hyundai-steers-towards-3-billion-public-listing/articleshow/111031692.cms',\n",
              "   'urlToImage': 'https://img.etimg.com/thumb/msid-111031779,width-1200,height-630,imgsize-5806,overlay-etmarkets/photo.jpg',\n",
              "   'publishedAt': '2024-06-16T03:37:22Z',\n",
              "   'content': \"Mumbai: Hyundai Motor India (HMIL), the country's second-largest car maker, filed a draft red herring prospectus (DRHP) with the Securities and Exchange Board of India on Saturday for a record 25,000… [+2765 chars]\"},\n",
              "  {'source': {'id': None, 'name': 'Business Standard'},\n",
              "   'author': 'Press Trust of India',\n",
              "   'title': 'Mcap of 5 of top-10 valued firms jumps Rs 85,582 cr; LIC biggest gainer',\n",
              "   'description': 'Five of the top-10 most valued firms together added Rs 85,582.21 crore in market valuation last week, with Life Insurance Corporation of India (LIC) emerging as the biggest gainer, in-line with positive trend in equities.',\n",
              "   'url': 'https://www.business-standard.com/markets/news/mcap-of-5-of-top10-valued-firms-jumps-rs-85582-cr-lic-biggest-gainer-124061600112_1.html',\n",
              "   'urlToImage': 'https://bsmedia.business-standard.com/_media/bs/img/article/2023-11/23/thumb/fitandfill/400X400/1700736727-4867.jpg',\n",
              "   'publishedAt': '2024-06-16T05:19:21Z',\n",
              "   'content': 'The valuation of LIC jumped Rs 46,425.48 crore to Rs 6,74,877.25 crore, the most among the top-10 firms\\r\\nLast week, BSE benchmark Sensex climbed 299.41 points or 0.39 per cent. The 30-share barometer… [+2131 chars]'},\n",
              "  {'source': {'id': 'the-times-of-india', 'name': 'The Times of India'},\n",
              "   'author': 'Sharmistha Mukherjee',\n",
              "   'title': 'Boost for Hyundai Motor export plans, as auto co plans to launch slew of EVs over next 4 years',\n",
              "   'description': \"Hyundai Motor India Ltd (HMIL) is planning a ₹25,000 crore IPO to drive its parent company's strategy of making India a key export hub. The company plans to introduce nearly half a dozen electric vehicles for local sales and exports as part of this ambitious …\",\n",
              "   'url': 'https://economictimes.indiatimes.com/industry/auto/auto-news/boost-for-hyundai-motor-export-plans-as-auto-co-plans-to-launch-slew-of-evs-over-next-4-years/articleshow/111026895.cms',\n",
              "   'urlToImage': 'https://img.etimg.com/thumb/msid-111026913,width-1200,height-630,imgsize-53498,overlay-economictimes/photo.jpg',\n",
              "   'publishedAt': '2024-06-16T00:00:00Z',\n",
              "   'content': \"New Delhi: The planned 25,000 crore ($3 billion) IPO by Hyundai Motor India Ltd (HMIL) will drive parent Hyundai Motor's ambitious strategy to make India a key export hub to expand its global busines… [+3478 chars]\"},\n",
              "  {'source': {'id': 'marca', 'name': 'Marca'},\n",
              "   'author': 'marca.com',\n",
              "   'title': 'Inter Miami survive 2 reds, dramatically win first game with Lionel Messi and Luis Suarez at Copa America',\n",
              "   'description': 'Without Lionel Messi and Luis Suárez, Inter Miami signed a heroic performance this Saturday, beating the Philadelphia Union 1-2 in stoppage time despite being left with nine player',\n",
              "   'url': 'https://www.marca.com/en/football/mls/2024/06/16/666e6c24268e3efc6a8b457d.html',\n",
              "   'urlToImage': 'https://phantom-marca.unidadeditorial.es/f0543cecab630d31587a885c957554c7/resize/1200/f/webp/assets/multimedia/imagenes/2024/06/16/17185124973783.jpg',\n",
              "   'publishedAt': '2024-06-16T04:46:11Z',\n",
              "   'content': \"Without Lionel Messi and Luis Suárez, Inter Miami signed a heroic performance this Saturday, beating the Philadelphia Union 1-2 in stoppage time despite being left with nine players.\\r\\nGerardo 'Tata' … [+1757 chars]\"},\n",
              "  {'source': {'id': None, 'name': 'Statetimes.in'},\n",
              "   'author': 'statetimes_editor',\n",
              "   'title': 'State Cancer Institute: A smiling ray of hope for Jammu',\n",
              "   'description': 'Prof. Nutan K. Resutra It was around four in the evening when two perplexed men cane to the ground floor of State Cancer Institute situated in the vicinity of Super Specialty Hospital Jammu to seek consultations. They went to a small cabin where a lady doctor…',\n",
              "   'url': 'https://statetimes.in/state-cancer-institute-a-smiling-ray-of-hope-for-jammu/',\n",
              "   'urlToImage': 'https://statetimes.in/wp-content/uploads/2023/03/319526318_5727891263973556_9016205861254904172_n-1024x1024.jpg',\n",
              "   'publishedAt': '2024-06-16T01:47:03Z',\n",
              "   'content': 'Prof. Nutan K. Resutra\\r\\nIt was around four in the evening when two perplexed men cane to the ground floor of State Cancer Institute situated in the vicinity of Super Specialty Hospital Jammu to seek … [+9641 chars]'}]}"
            ]
          },
          "execution_count": 20,
          "metadata": {},
          "output_type": "execute_result"
        }
      ],
      "source": [
        "articles"
      ]
    },
    {
      "cell_type": "code",
      "execution_count": 21,
      "metadata": {
        "colab": {
          "base_uri": "https://localhost:8080/"
        },
        "id": "O0pHyAbh20ht",
        "outputId": "46215abf-3ce4-4470-ec8a-af69682a8b3e"
      },
      "outputs": [
        {
          "name": "stdout",
          "output_type": "stream",
          "text": [
            "Hyundai Motor India Ltd (HMIL) is planning a ₹25,000 crore IPO\n",
            "{'neg': 0.0, 'neu': 1.0, 'pos': 0.0, 'compound': 0.0}\n"
          ]
        }
      ],
      "source": [
        "PHRASES = ['Hyundai Motor India Ltd (HMIL) is planning a ₹25,000 crore IPO']\n",
        "\n",
        "for phrase in PHRASES:\n",
        "  print(f'{phrase}')\n",
        "  print(sia.polarity_scores(phrase))"
      ]
    },
    {
      "cell_type": "code",
      "execution_count": 22,
      "metadata": {
        "id": "ELeFu7jcz7Ih"
      },
      "outputs": [],
      "source": [
        "\n",
        "def get_articles_sentiments(keywrd, startd, sources_list = None, show_all_articles = False):\n",
        "   \n",
        "  newsapi = NewsApiClient(api_key= NEWS_API_KEY)\n",
        "  if type(startd) == str:\n",
        "    my_date = datetime.strptime(startd,'%d-%b-%Y')\n",
        "  else:\n",
        "    my_date = startd\n",
        "  # business_en_sources = get_sources('business','en')\n",
        "  if sources_list:\n",
        "    articles = newsapi.get_everything(q = keywrd,\n",
        "                                      from_param = my_date.isoformat(), \n",
        "                                      to = (my_date + timedelta(days = 1)).isoformat(),\n",
        "                                      language=\"en\",\n",
        "                                      sources = \",\".join(sources_list),\n",
        "                                      sort_by=\"relevancy\",\n",
        "                                      page_size = 100)\n",
        "  else:\n",
        "     articles = newsapi.get_everything(q = keywrd,\n",
        "                                       from_param = my_date.isoformat(), \n",
        "                                       to = (my_date + timedelta(days = 1)).isoformat(),\n",
        "                                       language=\"en\",\n",
        "                                       sort_by=\"relevancy\",\n",
        "                                       page_size = 100)\n",
        "  article_content = ''\n",
        "\n",
        "  date_sentiments = {}\n",
        "  date_sentiments_list = []\n",
        "  seen = set()\n",
        "  \n",
        "  for article in articles['articles']:\n",
        "    if str(article['title']) in seen:\n",
        "      continue\n",
        "    else:\n",
        "      seen.add(str(article['title']))\n",
        "      article_content = str(article['title']) + '. ' + str(article['description'])      \n",
        "      sentiment = sia.polarity_scores(article_content)['compound']\n",
        "      date_sentiments.setdefault(my_date, []).append(sentiment)\n",
        "      date_sentiments_list.append((sentiment, article['url'],article['title'],article['description']))\n",
        "\n",
        "  date_sentiments_l = sorted(date_sentiments_list, key=lambda tup: tup[0], reverse = True)   \n",
        "  sent_list = list(date_sentiments.values())[0]\n",
        "\n",
        "  return pd.DataFrame(date_sentiments_list, columns=['Sentiment','URL','Title','Description'])"
      ]
    },
    {
      "cell_type": "code",
      "execution_count": 23,
      "metadata": {
        "colab": {
          "base_uri": "https://localhost:8080/",
          "height": 523
        },
        "id": "nA9eICoU8qD3",
        "outputId": "badc4311-21fb-426a-b030-fc29dbfd008d"
      },
      "outputs": [
        {
          "name": "stdout",
          "output_type": "stream",
          "text": [
            "   Sentiment  \\\n",
            "0      0.296   \n",
            "1      0.745   \n",
            "\n",
            "                                                                                                                                                                                    URL  \\\n",
            "0                                            https://economictimes.indiatimes.com/markets/ipos/fpos/with-drhp-hyundai-steers-towards-3-billion-public-listing/articleshow/111031692.cms   \n",
            "1  https://economictimes.indiatimes.com/industry/auto/auto-news/boost-for-hyundai-motor-export-plans-as-auto-co-plans-to-launch-slew-of-evs-over-next-4-years/articleshow/111026895.cms   \n",
            "\n",
            "                                                                                            Title  \\\n",
            "0                                     With DRHP, Hyundai steers towards $3 billion public listing   \n",
            "1  Boost for Hyundai Motor export plans, as auto co plans to launch slew of EVs over next 4 years   \n",
            "\n",
            "                                                                                                                                                                                                                                                            Description  \n",
            "0                                                                                                                India's largest public issue will be an offer-for-sale (OFS) of up to 142.2 million shares, or a 17.5% stake, by South Korean parent Hyundai Motor Co.  \n",
            "1  Hyundai Motor India Ltd (HMIL) is planning a ₹25,000 crore IPO to drive its parent company's strategy of making India a key export hub. The company plans to introduce nearly half a dozen electric vehicles for local sales and exports as part of this ambitious …  \n"
          ]
        },
        {
          "data": {
            "image/png": "[encoded data removed]",
            "text/plain": [
              "<Figure size 640x480 with 1 Axes>"
            ]
          },
          "metadata": {},
          "output_type": "display_data"
        }
      ],
      "source": [
        "# Easy version when we don't filter the business source -- seems to be relevant though, but the description\n",
        "# Get all sources in en\n",
        "\n",
        "my_date = date.today() - timedelta(days=1) \n",
        "\n",
        "return_articles = get_articles_sentiments(keywrd= 'Hyundai' ,startd = my_date, sources_list = None, show_all_articles= True)\n",
        "return_articles.Sentiment.hist(bins=30, grid=False)\n",
        "print(return_articles)\n",
        "# print(return_articles.Sentiment.mean())\n",
        "# print(return_articles.Sentiment.count())\n",
        "# print(return_articles.Description)\n"
      ]
    },
    {
      "cell_type": "code",
      "execution_count": 24,
      "metadata": {
        "id": "3hyUj0EB90dd"
      },
      "outputs": [],
      "source": [
        "return_articles[\"Date\"] = my_date"
      ]
    },
    {
      "cell_type": "code",
      "execution_count": 25,
      "metadata": {
        "colab": {
          "base_uri": "https://localhost:8080/",
          "height": 408
        },
        "id": "LC1RXvvD90Wb",
        "outputId": "aa8e5259-a846-48a7-c9ba-29271a7677da"
      },
      "outputs": [
        {
          "data": {
            "text/html": [
              "<div>\n",
              "<style scoped>\n",
              "    .dataframe tbody tr th:only-of-type {\n",
              "        vertical-align: middle;\n",
              "    }\n",
              "\n",
              "    .dataframe tbody tr th {\n",
              "        vertical-align: top;\n",
              "    }\n",
              "\n",
              "    .dataframe thead th {\n",
              "        text-align: right;\n",
              "    }\n",
              "</style>\n",
              "<table border=\"1\" class=\"dataframe\">\n",
              "  <thead>\n",
              "    <tr style=\"text-align: right;\">\n",
              "      <th></th>\n",
              "      <th>Sentiment</th>\n",
              "      <th>URL</th>\n",
              "      <th>Title</th>\n",
              "      <th>Description</th>\n",
              "      <th>Date</th>\n",
              "    </tr>\n",
              "  </thead>\n",
              "  <tbody>\n",
              "    <tr>\n",
              "      <th>0</th>\n",
              "      <td>0.296</td>\n",
              "      <td>https://economictimes.indiatimes.com/markets/ipos/fpos/with-drhp-hyundai-steers-towards-3-billion-public-listing/articleshow/111031692.cms</td>\n",
              "      <td>With DRHP, Hyundai steers towards $3 billion public listing</td>\n",
              "      <td>India's largest public issue will be an offer-for-sale (OFS) of up to 142.2 million shares, or a 17.5% stake, by South Korean parent Hyundai Motor Co.</td>\n",
              "      <td>2024-06-16</td>\n",
              "    </tr>\n",
              "    <tr>\n",
              "      <th>1</th>\n",
              "      <td>0.745</td>\n",
              "      <td>https://economictimes.indiatimes.com/industry/auto/auto-news/boost-for-hyundai-motor-export-plans-as-auto-co-plans-to-launch-slew-of-evs-over-next-4-years/articleshow/111026895.cms</td>\n",
              "      <td>Boost for Hyundai Motor export plans, as auto co plans to launch slew of EVs over next 4 years</td>\n",
              "      <td>Hyundai Motor India Ltd (HMIL) is planning a ₹25,000 crore IPO to drive its parent company's strategy of making India a key export hub. The company plans to introduce nearly half a dozen electric vehicles for local sales and exports as part of this ambitious …</td>\n",
              "      <td>2024-06-16</td>\n",
              "    </tr>\n",
              "  </tbody>\n",
              "</table>\n",
              "</div>"
            ],
            "text/plain": [
              "   Sentiment  \\\n",
              "0      0.296   \n",
              "1      0.745   \n",
              "\n",
              "                                                                                                                                                                                    URL  \\\n",
              "0                                            https://economictimes.indiatimes.com/markets/ipos/fpos/with-drhp-hyundai-steers-towards-3-billion-public-listing/articleshow/111031692.cms   \n",
              "1  https://economictimes.indiatimes.com/industry/auto/auto-news/boost-for-hyundai-motor-export-plans-as-auto-co-plans-to-launch-slew-of-evs-over-next-4-years/articleshow/111026895.cms   \n",
              "\n",
              "                                                                                            Title  \\\n",
              "0                                     With DRHP, Hyundai steers towards $3 billion public listing   \n",
              "1  Boost for Hyundai Motor export plans, as auto co plans to launch slew of EVs over next 4 years   \n",
              "\n",
              "                                                                                                                                                                                                                                                            Description  \\\n",
              "0                                                                                                                India's largest public issue will be an offer-for-sale (OFS) of up to 142.2 million shares, or a 17.5% stake, by South Korean parent Hyundai Motor Co.   \n",
              "1  Hyundai Motor India Ltd (HMIL) is planning a ₹25,000 crore IPO to drive its parent company's strategy of making India a key export hub. The company plans to introduce nearly half a dozen electric vehicles for local sales and exports as part of this ambitious …   \n",
              "\n",
              "         Date  \n",
              "0  2024-06-16  \n",
              "1  2024-06-16  "
            ]
          },
          "execution_count": 25,
          "metadata": {},
          "output_type": "execute_result"
        }
      ],
      "source": [
        "return_articles.head()"
      ]
    },
    {
      "cell_type": "code",
      "execution_count": 26,
      "metadata": {
        "colab": {
          "base_uri": "https://localhost:8080/",
          "height": 179
        },
        "id": "d4OyfFr91BCT",
        "outputId": "ddc461eb-4575-49db-a591-3f79cfda7d1d"
      },
      "outputs": [
        {
          "data": {
            "text/html": [
              "<div>\n",
              "<style scoped>\n",
              "    .dataframe tbody tr th:only-of-type {\n",
              "        vertical-align: middle;\n",
              "    }\n",
              "\n",
              "    .dataframe tbody tr th {\n",
              "        vertical-align: top;\n",
              "    }\n",
              "\n",
              "    .dataframe thead th {\n",
              "        text-align: right;\n",
              "    }\n",
              "</style>\n",
              "<table border=\"1\" class=\"dataframe\">\n",
              "  <thead>\n",
              "    <tr style=\"text-align: right;\">\n",
              "      <th></th>\n",
              "      <th>Sentiment</th>\n",
              "      <th>URL</th>\n",
              "      <th>Description</th>\n",
              "      <th>Title</th>\n",
              "    </tr>\n",
              "  </thead>\n",
              "  <tbody>\n",
              "    <tr>\n",
              "      <th>0</th>\n",
              "      <td>0.296</td>\n",
              "      <td>https://economictimes.indiatimes.com/markets/ipos/fpos/with-drhp-hyundai-steers-towards-3-billion-public-listing/articleshow/111031692.cms</td>\n",
              "      <td>India's largest public issue will be an offer-for-sale (OFS) of up to 142.2 million shares, or a 17.5% stake, by South Korean parent Hyundai Motor Co.</td>\n",
              "      <td>With DRHP, Hyundai steers towards $3 billion public listing</td>\n",
              "    </tr>\n",
              "    <tr>\n",
              "      <th>1</th>\n",
              "      <td>0.745</td>\n",
              "      <td>https://economictimes.indiatimes.com/industry/auto/auto-news/boost-for-hyundai-motor-export-plans-as-auto-co-plans-to-launch-slew-of-evs-over-next-4-years/articleshow/111026895.cms</td>\n",
              "      <td>Hyundai Motor India Ltd (HMIL) is planning a ₹25,000 crore IPO to drive its parent company's strategy of making India a key export hub. The company plans to introduce nearly half a dozen electric vehicles for local sales and exports as part of this ambitious …</td>\n",
              "      <td>Boost for Hyundai Motor export plans, as auto co plans to launch slew of EVs over next 4 years</td>\n",
              "    </tr>\n",
              "  </tbody>\n",
              "</table>\n",
              "</div>"
            ],
            "text/plain": [
              "   Sentiment  \\\n",
              "0      0.296   \n",
              "1      0.745   \n",
              "\n",
              "                                                                                                                                                                                    URL  \\\n",
              "0                                            https://economictimes.indiatimes.com/markets/ipos/fpos/with-drhp-hyundai-steers-towards-3-billion-public-listing/articleshow/111031692.cms   \n",
              "1  https://economictimes.indiatimes.com/industry/auto/auto-news/boost-for-hyundai-motor-export-plans-as-auto-co-plans-to-launch-slew-of-evs-over-next-4-years/articleshow/111026895.cms   \n",
              "\n",
              "                                                                                                                                                                                                                                                            Description  \\\n",
              "0                                                                                                                India's largest public issue will be an offer-for-sale (OFS) of up to 142.2 million shares, or a 17.5% stake, by South Korean parent Hyundai Motor Co.   \n",
              "1  Hyundai Motor India Ltd (HMIL) is planning a ₹25,000 crore IPO to drive its parent company's strategy of making India a key export hub. The company plans to introduce nearly half a dozen electric vehicles for local sales and exports as part of this ambitious …   \n",
              "\n",
              "                                                                                            Title  \n",
              "0                                     With DRHP, Hyundai steers towards $3 billion public listing  \n",
              "1  Boost for Hyundai Motor export plans, as auto co plans to launch slew of EVs over next 4 years  "
            ]
          },
          "execution_count": 26,
          "metadata": {},
          "output_type": "execute_result"
        }
      ],
      "source": [
        "return_articles.sort_values(by='Sentiment', ascending=True)[['Sentiment','URL', 'Description','Title']].head(2)"
      ]
    },
    {
      "cell_type": "code",
      "execution_count": 27,
      "metadata": {
        "colab": {
          "base_uri": "https://localhost:8080/",
          "height": 162
        },
        "id": "T-yQOz0f1LGn",
        "outputId": "26c5a0f5-1ea5-4403-9f9d-90560f172016"
      },
      "outputs": [
        {
          "data": {
            "text/html": [
              "<div>\n",
              "<style scoped>\n",
              "    .dataframe tbody tr th:only-of-type {\n",
              "        vertical-align: middle;\n",
              "    }\n",
              "\n",
              "    .dataframe tbody tr th {\n",
              "        vertical-align: top;\n",
              "    }\n",
              "\n",
              "    .dataframe thead th {\n",
              "        text-align: right;\n",
              "    }\n",
              "</style>\n",
              "<table border=\"1\" class=\"dataframe\">\n",
              "  <thead>\n",
              "    <tr style=\"text-align: right;\">\n",
              "      <th></th>\n",
              "      <th>Sentiment</th>\n",
              "      <th>URL</th>\n",
              "      <th>Description</th>\n",
              "      <th>Title</th>\n",
              "    </tr>\n",
              "  </thead>\n",
              "  <tbody>\n",
              "    <tr>\n",
              "      <th>1</th>\n",
              "      <td>0.745</td>\n",
              "      <td>https://economictimes.indiatimes.com/industry/auto/auto-news/boost-for-hyundai-motor-export-plans-as-auto-co-plans-to-launch-slew-of-evs-over-next-4-years/articleshow/111026895.cms</td>\n",
              "      <td>Hyundai Motor India Ltd (HMIL) is planning a ₹25,000 crore IPO to drive its parent company's strategy of making India a key export hub. The company plans to introduce nearly half a dozen electric vehicles for local sales and exports as part of this ambitious …</td>\n",
              "      <td>Boost for Hyundai Motor export plans, as auto co plans to launch slew of EVs over next 4 years</td>\n",
              "    </tr>\n",
              "    <tr>\n",
              "      <th>0</th>\n",
              "      <td>0.296</td>\n",
              "      <td>https://economictimes.indiatimes.com/markets/ipos/fpos/with-drhp-hyundai-steers-towards-3-billion-public-listing/articleshow/111031692.cms</td>\n",
              "      <td>India's largest public issue will be an offer-for-sale (OFS) of up to 142.2 million shares, or a 17.5% stake, by South Korean parent Hyundai Motor Co.</td>\n",
              "      <td>With DRHP, Hyundai steers towards $3 billion public listing</td>\n",
              "    </tr>\n",
              "  </tbody>\n",
              "</table>\n",
              "</div>"
            ],
            "text/plain": [
              "   Sentiment  \\\n",
              "1      0.745   \n",
              "0      0.296   \n",
              "\n",
              "                                                                                                                                                                                    URL  \\\n",
              "1  https://economictimes.indiatimes.com/industry/auto/auto-news/boost-for-hyundai-motor-export-plans-as-auto-co-plans-to-launch-slew-of-evs-over-next-4-years/articleshow/111026895.cms   \n",
              "0                                            https://economictimes.indiatimes.com/markets/ipos/fpos/with-drhp-hyundai-steers-towards-3-billion-public-listing/articleshow/111031692.cms   \n",
              "\n",
              "                                                                                                                                                                                                                                                            Description  \\\n",
              "1  Hyundai Motor India Ltd (HMIL) is planning a ₹25,000 crore IPO to drive its parent company's strategy of making India a key export hub. The company plans to introduce nearly half a dozen electric vehicles for local sales and exports as part of this ambitious …   \n",
              "0                                                                                                                India's largest public issue will be an offer-for-sale (OFS) of up to 142.2 million shares, or a 17.5% stake, by South Korean parent Hyundai Motor Co.   \n",
              "\n",
              "                                                                                            Title  \n",
              "1  Boost for Hyundai Motor export plans, as auto co plans to launch slew of EVs over next 4 years  \n",
              "0                                     With DRHP, Hyundai steers towards $3 billion public listing  "
            ]
          },
          "execution_count": 27,
          "metadata": {},
          "output_type": "execute_result"
        }
      ],
      "source": [
        "return_articles.sort_values(by='Sentiment', ascending=False)[['Sentiment','URL', 'Description','Title']].head(2)"
      ]
    },
    {
      "cell_type": "code",
      "execution_count": 29,
      "metadata": {
        "id": "NgTnotDf-IYq"
      },
      "outputs": [],
      "source": [
        "return_articles.to_csv(\"Sentiment_Details\"+my_date.isoformat()+\".csv\")"
      ]
    },
    {
      "cell_type": "code",
      "execution_count": null,
      "metadata": {},
      "outputs": [],
      "source": []
    },
    {
      "cell_type": "code",
      "execution_count": null,
      "metadata": {},
      "outputs": [],
      "source": []
    }
  ],
  "metadata": {
    "colab": {
      "authorship_tag": "ABX9TyP2+UtX3UhysmWqUwmNepyg",
      "include_colab_link": true,
      "name": "PythonInvest.com :: 2_2. EveryDay_Sentiment Analysis of Financial News .ipynb",
      "provenance": [],
      "toc_visible": true
    },
    "kernelspec": {
      "display_name": "Python 3",
      "name": "python3"
    },
    "language_info": {
      "codemirror_mode": {
        "name": "ipython",
        "version": 3
      },
      "file_extension": ".py",
      "mimetype": "text/x-python",
      "name": "python",
      "nbconvert_exporter": "python",
      "pygments_lexer": "ipython3",
      "version": "3.11.5"
    }
  },
  "nbformat": 4,
  "nbformat_minor": 0
}
